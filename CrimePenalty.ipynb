{
 "cells": [
  {
   "cell_type": "markdown",
   "metadata": {},
   "source": [
    "# Crime and Penalty"
   ]
  },
  {
   "cell_type": "markdown",
   "metadata": {},
   "source": [
    "In this data analysis, I will be analyzing and applying statistical practices on a dataset about the death penalty in the USA. "
   ]
  },
  {
   "cell_type": "markdown",
   "metadata": {},
   "source": [
    "## A/B Testing\n",
    "\n",
    "A/B testing is a form of hypothesis testing that allows you to make **comparisons** between **two distributions**.\n",
    "\n",
    "If the null hypothesis of an A/B test is correct, then even if the order of the labels are shuffled it would not affect the differences in means between each group. By randomizing the data and creating multiple simulations we can compare it to the initial outcome to determin the \"fairness\" of a claim. "
   ]
  },
  {
   "cell_type": "markdown",
   "metadata": {},
   "source": [
    "# Murder Rates\n",
    "\n",
    "Punishment for crime has many [philosophical justifications](http://plato.stanford.edu/entries/punishment/#ThePun).  An important one is that fear of punishment may *deter* people from committing crimes.\n",
    "\n",
    "In the United States, some jurisdictions execute people who are convicted of particularly serious crimes, such as murder.  This punishment is called the *death penalty* or *capital punishment*.  The death penalty is controversial, and deterrence has been one focal point of the debate.  There are other reasons to support or oppose the death penalty, but in this project I've focused on deterrence.\n",
    "\n",
    "The key question about deterrence is:\n",
    "\n",
    "> Through this exploration, does instituting a death penalty for murder actually reduce the number of murders?\n",
    "\n",
    "Different sides have variously argued that the death penalty has no deterrent effect and that each execution prevents 8 murders, all using statistical arguments!  \n",
    "\n",
    "#### The data\n",
    "\n",
    "The main data source for this data analysis comes from a [paper](http://cjlf.org/deathpenalty/DezRubShepDeterFinal.pdf) by three researchers, Dezhbakhsh, Rubin, and Shepherd.  The dataset contains rates of various violent crimes for every year 1960-2003 (44 years) in every US state.  The researchers compiled the data from the FBI's Uniform Crime Reports.\n",
    "\n",
    "Since crimes are committed by people, not states, we need to account for the number of people in each state when we're looking at state-level data.  Murder rates are calculated as follows:\n",
    "\n",
    "$$\\text{murder rate for state X in year Y} = \\frac{\\text{number of murders in state X in year Y}}{\\text{population in state X in year Y}}*100000$$\n",
    "\n",
    "(Murder is rare, so we multiply by 100,000 just to avoid dealing with tiny numbers.)\n",
    "\n",
    "#### This analysis was done by Niki Karanikola in the Data Science Class | Spring 2023 | Instructor: Robert Blair | University of East Anglia\n"
   ]
  },
  {
   "cell_type": "code",
   "execution_count": 10,
   "metadata": {},
   "outputs": [],
   "source": [
    "#importing the libraries\n",
    "\n",
    "import numpy as np\n",
    "import pandas as pd\n",
    "\n",
    "%matplotlib inline\n",
    "import matplotlib.pyplot as plt\n",
    "plt.style.use('fivethirtyeight')\n",
    "\n",
    "import warnings\n",
    "warnings.simplefilter('ignore', FutureWarning)"
   ]
  },
  {
   "cell_type": "code",
   "execution_count": 11,
   "metadata": {},
   "outputs": [
    {
     "data": {
      "text/html": [
       "<div>\n",
       "<style scoped>\n",
       "    .dataframe tbody tr th:only-of-type {\n",
       "        vertical-align: middle;\n",
       "    }\n",
       "\n",
       "    .dataframe tbody tr th {\n",
       "        vertical-align: top;\n",
       "    }\n",
       "\n",
       "    .dataframe thead th {\n",
       "        text-align: right;\n",
       "    }\n",
       "</style>\n",
       "<table border=\"1\" class=\"dataframe\">\n",
       "  <thead>\n",
       "    <tr style=\"text-align: right;\">\n",
       "      <th></th>\n",
       "      <th>State</th>\n",
       "      <th>Year</th>\n",
       "      <th>Population</th>\n",
       "      <th>Murder Rate</th>\n",
       "    </tr>\n",
       "  </thead>\n",
       "  <tbody>\n",
       "    <tr>\n",
       "      <th>0</th>\n",
       "      <td>Alaska</td>\n",
       "      <td>1960</td>\n",
       "      <td>226167</td>\n",
       "      <td>10.2</td>\n",
       "    </tr>\n",
       "    <tr>\n",
       "      <th>1</th>\n",
       "      <td>Alaska</td>\n",
       "      <td>1961</td>\n",
       "      <td>234000</td>\n",
       "      <td>11.5</td>\n",
       "    </tr>\n",
       "    <tr>\n",
       "      <th>2</th>\n",
       "      <td>Alaska</td>\n",
       "      <td>1962</td>\n",
       "      <td>246000</td>\n",
       "      <td>4.5</td>\n",
       "    </tr>\n",
       "    <tr>\n",
       "      <th>3</th>\n",
       "      <td>Alaska</td>\n",
       "      <td>1963</td>\n",
       "      <td>248000</td>\n",
       "      <td>6.5</td>\n",
       "    </tr>\n",
       "    <tr>\n",
       "      <th>4</th>\n",
       "      <td>Alaska</td>\n",
       "      <td>1964</td>\n",
       "      <td>250000</td>\n",
       "      <td>10.4</td>\n",
       "    </tr>\n",
       "    <tr>\n",
       "      <th>...</th>\n",
       "      <td>...</td>\n",
       "      <td>...</td>\n",
       "      <td>...</td>\n",
       "      <td>...</td>\n",
       "    </tr>\n",
       "    <tr>\n",
       "      <th>2195</th>\n",
       "      <td>Wyoming</td>\n",
       "      <td>1999</td>\n",
       "      <td>480000</td>\n",
       "      <td>2.3</td>\n",
       "    </tr>\n",
       "    <tr>\n",
       "      <th>2196</th>\n",
       "      <td>Wyoming</td>\n",
       "      <td>2000</td>\n",
       "      <td>493782</td>\n",
       "      <td>2.4</td>\n",
       "    </tr>\n",
       "    <tr>\n",
       "      <th>2197</th>\n",
       "      <td>Wyoming</td>\n",
       "      <td>2001</td>\n",
       "      <td>494423</td>\n",
       "      <td>1.8</td>\n",
       "    </tr>\n",
       "    <tr>\n",
       "      <th>2198</th>\n",
       "      <td>Wyoming</td>\n",
       "      <td>2002</td>\n",
       "      <td>498830</td>\n",
       "      <td>3.0</td>\n",
       "    </tr>\n",
       "    <tr>\n",
       "      <th>2199</th>\n",
       "      <td>Wyoming</td>\n",
       "      <td>2003</td>\n",
       "      <td>501242</td>\n",
       "      <td>2.8</td>\n",
       "    </tr>\n",
       "  </tbody>\n",
       "</table>\n",
       "<p>2200 rows × 4 columns</p>\n",
       "</div>"
      ],
      "text/plain": [
       "        State  Year  Population  Murder Rate\n",
       "0      Alaska  1960      226167         10.2\n",
       "1      Alaska  1961      234000         11.5\n",
       "2      Alaska  1962      246000          4.5\n",
       "3      Alaska  1963      248000          6.5\n",
       "4      Alaska  1964      250000         10.4\n",
       "...       ...   ...         ...          ...\n",
       "2195  Wyoming  1999      480000          2.3\n",
       "2196  Wyoming  2000      493782          2.4\n",
       "2197  Wyoming  2001      494423          1.8\n",
       "2198  Wyoming  2002      498830          3.0\n",
       "2199  Wyoming  2003      501242          2.8\n",
       "\n",
       "[2200 rows x 4 columns]"
      ]
     },
     "execution_count": 11,
     "metadata": {},
     "output_type": "execute_result"
    }
   ],
   "source": [
    "murder_rates = pd.read_csv('crime_rates.csv', usecols=['State', \n",
    "                                                       'Year', \n",
    "                                                       'Population', \n",
    "                                                       'Murder Rate'])\n",
    "\n",
    "murder_rates"
   ]
  },
  {
   "cell_type": "markdown",
   "metadata": {},
   "source": [
    "Murder rates vary over time, and different states exhibit different trends. The rates in some states change dramatically from year to year, while others are quite stable. "
   ]
  },
  {
   "cell_type": "code",
   "execution_count": 12,
   "metadata": {},
   "outputs": [
    {
     "data": {
      "text/html": [
       "<div>\n",
       "<style scoped>\n",
       "    .dataframe tbody tr th:only-of-type {\n",
       "        vertical-align: middle;\n",
       "    }\n",
       "\n",
       "    .dataframe tbody tr th {\n",
       "        vertical-align: top;\n",
       "    }\n",
       "\n",
       "    .dataframe thead th {\n",
       "        text-align: right;\n",
       "    }\n",
       "</style>\n",
       "<table border=\"1\" class=\"dataframe\">\n",
       "  <thead>\n",
       "    <tr style=\"text-align: right;\">\n",
       "      <th></th>\n",
       "      <th>Year</th>\n",
       "      <th>Murder rate in Alaska</th>\n",
       "      <th>Murder rate in Minnesota</th>\n",
       "    </tr>\n",
       "  </thead>\n",
       "  <tbody>\n",
       "    <tr>\n",
       "      <th>0</th>\n",
       "      <td>1960</td>\n",
       "      <td>10.2</td>\n",
       "      <td>1.2</td>\n",
       "    </tr>\n",
       "    <tr>\n",
       "      <th>1</th>\n",
       "      <td>1961</td>\n",
       "      <td>11.5</td>\n",
       "      <td>1.0</td>\n",
       "    </tr>\n",
       "    <tr>\n",
       "      <th>2</th>\n",
       "      <td>1962</td>\n",
       "      <td>4.5</td>\n",
       "      <td>0.9</td>\n",
       "    </tr>\n",
       "    <tr>\n",
       "      <th>3</th>\n",
       "      <td>1963</td>\n",
       "      <td>6.5</td>\n",
       "      <td>1.2</td>\n",
       "    </tr>\n",
       "    <tr>\n",
       "      <th>4</th>\n",
       "      <td>1964</td>\n",
       "      <td>10.4</td>\n",
       "      <td>1.4</td>\n",
       "    </tr>\n",
       "  </tbody>\n",
       "</table>\n",
       "</div>"
      ],
      "text/plain": [
       "   Year  Murder rate in Alaska  Murder rate in Minnesota\n",
       "0  1960                   10.2                       1.2\n",
       "1  1961                   11.5                       1.0\n",
       "2  1962                    4.5                       0.9\n",
       "3  1963                    6.5                       1.2\n",
       "4  1964                   10.4                       1.4"
      ]
     },
     "execution_count": 12,
     "metadata": {},
     "output_type": "execute_result"
    }
   ],
   "source": [
    "#Compare the murder rates in Minesota with that of Alaska\n",
    "\n",
    "ak = murder_rates[murder_rates['State'] == 'Alaska'].drop(columns=['State', \n",
    "                                                                   'Population']).rename(columns={'Murder Rate':'Murder rate in Alaska'})\n",
    "mn = murder_rates[murder_rates['State'] == 'Minnesota'].drop(columns=['State', \n",
    "                                                                      'Population']).rename(columns={'Murder Rate':'Murder rate in Minnesota'})\n",
    "\n",
    "ak_mn = pd.merge(ak, mn)\n",
    "ak_mn.head()"
   ]
  },
  {
   "cell_type": "code",
   "execution_count": 13,
   "metadata": {},
   "outputs": [
    {
     "data": {
      "image/png": "[encoded data removed]",
      "text/plain": [
       "<Figure size 432x288 with 1 Axes>"
      ]
     },
     "metadata": {},
     "output_type": "display_data"
    }
   ],
   "source": [
    "#Plot the Murder rates in Minnesota and Alaska in a line graph\n",
    "y1 = ak_mn['Murder rate in Alaska']\n",
    "y2 = ak_mn['Murder rate in Minnesota']\n",
    "x = ak_mn['Year']\n",
    "\n",
    "plt.plot(x, y1, label = \"Murder rate in Alaska\")\n",
    "plt.plot(x, y2, label = \"Murder rate in Minnesota'\")\n",
    "plt.legend()\n",
    "plt.show()"
   ]
  },
  {
   "cell_type": "code",
   "execution_count": 14,
   "metadata": {},
   "outputs": [
    {
     "data": {
      "application/vnd.jupyter.widget-view+json": {
       "model_id": "ba583dea998c480ca99f01e54b5e834f",
       "version_major": 2,
       "version_minor": 0
      },
      "text/plain": [
       "interactive(children=(Dropdown(description='state1', index=4, options=('Alaska', 'Alabama', 'Arkansas', 'Arizo…"
      ]
     },
     "metadata": {},
     "output_type": "display_data"
    }
   ],
   "source": [
    "# Compare the murder rates of any two states by filling in the blanks below \n",
    "\n",
    "from ipywidgets import interact, interactive, fixed, interact_manual\n",
    "import ipywidgets as widgets\n",
    "\n",
    "def state(state1, state2):\n",
    "    state1_table = murder_rates[murder_rates['State'] == state1].drop(columns=['State', 'Population']).rename(columns={'Murder Rate': 'Murder Rate in {}'.format(state1)})\n",
    "    state2_table = murder_rates[murder_rates['State'] == state2].drop(columns=['State', 'Population']).rename(columns={'Murder Rate': 'Murder Rate in {}'.format(state2)})\n",
    "    \n",
    "    s1_s2 = state1_table.merge(state2_table, left_on='Year', right_on='Year')\n",
    "    \n",
    "    s1_s2.plot('Year')\n",
    "    plt.legend(bbox_to_anchor=(1.05, 1))\n",
    "    plt.show()\n",
    "\n",
    "states_array = murder_rates['State'].unique()\n",
    "\n",
    "_ = interact(state,\n",
    "             state1=widgets.Dropdown(options=list(states_array),value='California'),\n",
    "             state2=widgets.Dropdown(options=list(states_array),value='New York')\n",
    "            )"
   ]
  },
  {
   "cell_type": "markdown",
   "metadata": {},
   "source": [
    "Some US states have the death penalty, and others don't, and laws have changed over time. In addition to changes in murder rates, I will also consider in this analysis whether the death penalty was in force in each state and each year.\n",
    "\n",
    "Using this information, I will investigate how the presence of the death penalty affects the murder rate of a state."
   ]
  },
  {
   "cell_type": "markdown",
   "metadata": {},
   "source": [
    "### A Natural Experiment\n",
    "\n",
    "In order to attempt to investigate the causal relationship between the death penalty and murder rates, I used the *natural experiment* method.  A natural experiment happens when something other than experimental design applies a treatment to one group and not to another (control) group, and the data scientist hopes that the treatment and control groups don't have any other systematic differences.\n",
    "\n",
    "My natural experiment is this: in 1972, a Supreme Court decision called *Furman v. Georgia* banned the death penalty throughout the US.  Suddenly, many states went from having the death penalty to not having the death penalty.\n",
    "\n",
    "As a first step, I'll examine how murder rates changed before and after the court decision.  I'll define the test as follows:\n",
    "\n",
    "> **Population:** All the states that had the death penalty before the 1972 abolition.  (There is no control group for the states that already lacked the death penalty in 1972, so we must omit them.)  This includes all US states **except** Alaska, Hawaii, Maine, Michigan, Wisconsin, and Minnesota.\n",
    "\n",
    "> **Treatment group:** The states in that population, in 1973 (the year after 1972).\n",
    "\n",
    "> **Control group:** The states in that population, in 1971 (the year before 1972).\n",
    "\n",
    "> **Null hypothesis:** Murder rates in 1971 and 1973 come from the same distribution.\n",
    "\n",
    "> **Alternative hypothesis:** Murder rates were higher in 1973 than they were in 1971.\n",
    "\n",
    "The alternative hypothesis is related to my suspicion that murder rates increase when the death penalty is eliminated.  "
   ]
  },
  {
   "cell_type": "markdown",
   "metadata": {},
   "source": [
    "I used an A/B test hypothesis to determine whether I could reject or accept the null hypothesis. "
   ]
  },
  {
   "cell_type": "code",
   "execution_count": 18,
   "metadata": {},
   "outputs": [],
   "source": [
    "non_death_penalty_states = np.array(['Alaska', \n",
    "                                     'Hawaii', \n",
    "                                     'Maine', \n",
    "                                     'Michigan', \n",
    "                                     'Wisconsin', \n",
    "                                     'Minnesota'])"
   ]
  },
  {
   "cell_type": "code",
   "execution_count": 19,
   "metadata": {},
   "outputs": [],
   "source": [
    "def had_death_penalty_in_1971(state):\n",
    "    \"\"\"Returns True if the argument is the name of a state that \n",
    "    had the death penalty in 1971.\"\"\"\n",
    "    return state not in non_death_penalty_states"
   ]
  },
  {
   "cell_type": "code",
   "execution_count": 20,
   "metadata": {},
   "outputs": [
    {
     "data": {
      "text/html": [
       "<div>\n",
       "<style scoped>\n",
       "    .dataframe tbody tr th:only-of-type {\n",
       "        vertical-align: middle;\n",
       "    }\n",
       "\n",
       "    .dataframe tbody tr th {\n",
       "        vertical-align: top;\n",
       "    }\n",
       "\n",
       "    .dataframe thead th {\n",
       "        text-align: right;\n",
       "    }\n",
       "</style>\n",
       "<table border=\"1\" class=\"dataframe\">\n",
       "  <thead>\n",
       "    <tr style=\"text-align: right;\">\n",
       "      <th></th>\n",
       "      <th>State</th>\n",
       "      <th>Death Penalty</th>\n",
       "    </tr>\n",
       "  </thead>\n",
       "  <tbody>\n",
       "    <tr>\n",
       "      <th>0</th>\n",
       "      <td>Alaska</td>\n",
       "      <td>False</td>\n",
       "    </tr>\n",
       "    <tr>\n",
       "      <th>1</th>\n",
       "      <td>Alabama</td>\n",
       "      <td>True</td>\n",
       "    </tr>\n",
       "    <tr>\n",
       "      <th>2</th>\n",
       "      <td>Arkansas</td>\n",
       "      <td>True</td>\n",
       "    </tr>\n",
       "    <tr>\n",
       "      <th>3</th>\n",
       "      <td>Arizona</td>\n",
       "      <td>True</td>\n",
       "    </tr>\n",
       "    <tr>\n",
       "      <th>4</th>\n",
       "      <td>California</td>\n",
       "      <td>True</td>\n",
       "    </tr>\n",
       "  </tbody>\n",
       "</table>\n",
       "</div>"
      ],
      "text/plain": [
       "        State  Death Penalty\n",
       "0      Alaska          False\n",
       "1     Alabama           True\n",
       "2    Arkansas           True\n",
       "3     Arizona           True\n",
       "4  California           True"
      ]
     },
     "execution_count": 20,
     "metadata": {},
     "output_type": "execute_result"
    }
   ],
   "source": [
    "death_penalty = murder_rates['State'].unique()\n",
    "\n",
    "death_penalty = pd.DataFrame({'State':death_penalty})\n",
    "\n",
    "death_penalty['Death Penalty'] = death_penalty['State'].apply(had_death_penalty_in_1971)\n",
    "\n",
    "death_penalty.head()"
   ]
  },
  {
   "cell_type": "code",
   "execution_count": 23,
   "metadata": {},
   "outputs": [
    {
     "data": {
      "text/html": [
       "<div>\n",
       "<style scoped>\n",
       "    .dataframe tbody tr th:only-of-type {\n",
       "        vertical-align: middle;\n",
       "    }\n",
       "\n",
       "    .dataframe tbody tr th {\n",
       "        vertical-align: top;\n",
       "    }\n",
       "\n",
       "    .dataframe thead th {\n",
       "        text-align: right;\n",
       "    }\n",
       "</style>\n",
       "<table border=\"1\" class=\"dataframe\">\n",
       "  <thead>\n",
       "    <tr style=\"text-align: right;\">\n",
       "      <th></th>\n",
       "      <th>State</th>\n",
       "      <th>Death Penalty</th>\n",
       "      <th>Year</th>\n",
       "      <th>Population</th>\n",
       "      <th>Murder Rate</th>\n",
       "    </tr>\n",
       "  </thead>\n",
       "  <tbody>\n",
       "    <tr>\n",
       "      <th>0</th>\n",
       "      <td>Alaska</td>\n",
       "      <td>False</td>\n",
       "      <td>1971</td>\n",
       "      <td>313000</td>\n",
       "      <td>13.4</td>\n",
       "    </tr>\n",
       "    <tr>\n",
       "      <th>1</th>\n",
       "      <td>Alabama</td>\n",
       "      <td>True</td>\n",
       "      <td>1971</td>\n",
       "      <td>3479000</td>\n",
       "      <td>15.1</td>\n",
       "    </tr>\n",
       "    <tr>\n",
       "      <th>2</th>\n",
       "      <td>Arkansas</td>\n",
       "      <td>True</td>\n",
       "      <td>1971</td>\n",
       "      <td>1944000</td>\n",
       "      <td>10.5</td>\n",
       "    </tr>\n",
       "    <tr>\n",
       "      <th>3</th>\n",
       "      <td>Arizona</td>\n",
       "      <td>True</td>\n",
       "      <td>1971</td>\n",
       "      <td>1849000</td>\n",
       "      <td>6.7</td>\n",
       "    </tr>\n",
       "    <tr>\n",
       "      <th>4</th>\n",
       "      <td>California</td>\n",
       "      <td>True</td>\n",
       "      <td>1971</td>\n",
       "      <td>20223000</td>\n",
       "      <td>8.1</td>\n",
       "    </tr>\n",
       "  </tbody>\n",
       "</table>\n",
       "</div>"
      ],
      "text/plain": [
       "        State  Death Penalty  Year  Population  Murder Rate\n",
       "0      Alaska          False  1971      313000         13.4\n",
       "1     Alabama           True  1971     3479000         15.1\n",
       "2    Arkansas           True  1971     1944000         10.5\n",
       "3     Arizona           True  1971     1849000          6.7\n",
       "4  California           True  1971    20223000          8.1"
      ]
     },
     "execution_count": 23,
     "metadata": {},
     "output_type": "execute_result"
    }
   ],
   "source": [
    "#Table showing the states that the death penalty existed in 1971\n",
    "preban_rates = pd.merge(death_penalty, murder_rates)\n",
    "preban_rates = preban_rates[preban_rates['Year'] == 1971]\n",
    "preban_rates = preban_rates.reset_index(drop=True)\n",
    "preban_rates.head()"
   ]
  },
  {
   "cell_type": "code",
   "execution_count": 25,
   "metadata": {},
   "outputs": [
    {
     "data": {
      "text/html": [
       "<div>\n",
       "<style scoped>\n",
       "    .dataframe tbody tr th:only-of-type {\n",
       "        vertical-align: middle;\n",
       "    }\n",
       "\n",
       "    .dataframe tbody tr th {\n",
       "        vertical-align: top;\n",
       "    }\n",
       "\n",
       "    .dataframe thead th {\n",
       "        text-align: right;\n",
       "    }\n",
       "</style>\n",
       "<table border=\"1\" class=\"dataframe\">\n",
       "  <thead>\n",
       "    <tr style=\"text-align: right;\">\n",
       "      <th></th>\n",
       "      <th>State</th>\n",
       "      <th>Death Penalty</th>\n",
       "      <th>Year</th>\n",
       "      <th>Population</th>\n",
       "      <th>Murder Rate</th>\n",
       "    </tr>\n",
       "  </thead>\n",
       "  <tbody>\n",
       "    <tr>\n",
       "      <th>1</th>\n",
       "      <td>Alabama</td>\n",
       "      <td>True</td>\n",
       "      <td>1973</td>\n",
       "      <td>3539000</td>\n",
       "      <td>13.2</td>\n",
       "    </tr>\n",
       "    <tr>\n",
       "      <th>0</th>\n",
       "      <td>Alaska</td>\n",
       "      <td>False</td>\n",
       "      <td>1973</td>\n",
       "      <td>330000</td>\n",
       "      <td>10.0</td>\n",
       "    </tr>\n",
       "    <tr>\n",
       "      <th>3</th>\n",
       "      <td>Arizona</td>\n",
       "      <td>True</td>\n",
       "      <td>1973</td>\n",
       "      <td>2058000</td>\n",
       "      <td>8.1</td>\n",
       "    </tr>\n",
       "    <tr>\n",
       "      <th>2</th>\n",
       "      <td>Arkansas</td>\n",
       "      <td>True</td>\n",
       "      <td>1973</td>\n",
       "      <td>2037000</td>\n",
       "      <td>8.8</td>\n",
       "    </tr>\n",
       "    <tr>\n",
       "      <th>4</th>\n",
       "      <td>California</td>\n",
       "      <td>True</td>\n",
       "      <td>1973</td>\n",
       "      <td>20601000</td>\n",
       "      <td>9.0</td>\n",
       "    </tr>\n",
       "  </tbody>\n",
       "</table>\n",
       "</div>"
      ],
      "text/plain": [
       "        State  Death Penalty  Year  Population  Murder Rate\n",
       "1     Alabama           True  1973     3539000         13.2\n",
       "0      Alaska          False  1973      330000         10.0\n",
       "3     Arizona           True  1973     2058000          8.1\n",
       "2    Arkansas           True  1973     2037000          8.8\n",
       "4  California           True  1973    20601000          9.0"
      ]
     },
     "execution_count": 25,
     "metadata": {},
     "output_type": "execute_result"
    }
   ],
   "source": [
    "#Table showing the states that the death penalty existed in 1973\n",
    "\n",
    "states_with_penalty = preban_rates['State']\n",
    "postban_rates = pd.merge(death_penalty, murder_rates)\n",
    "postban_rates = postban_rates[(postban_rates['Year'] == 1973)& (murder_rates['State'].isin(states_with_penalty))]\n",
    "postban_rates = postban_rates.reset_index(drop=True)\n",
    "postban_rates = postban_rates.sort_values(by=[\"State\"])\n",
    "postban_rates.head()"
   ]
  },
  {
   "cell_type": "code",
   "execution_count": 28,
   "metadata": {},
   "outputs": [
    {
     "data": {
      "text/html": [
       "<div>\n",
       "<style scoped>\n",
       "    .dataframe tbody tr th:only-of-type {\n",
       "        vertical-align: middle;\n",
       "    }\n",
       "\n",
       "    .dataframe tbody tr th {\n",
       "        vertical-align: top;\n",
       "    }\n",
       "\n",
       "    .dataframe thead th {\n",
       "        text-align: right;\n",
       "    }\n",
       "</style>\n",
       "<table border=\"1\" class=\"dataframe\">\n",
       "  <thead>\n",
       "    <tr style=\"text-align: right;\">\n",
       "      <th></th>\n",
       "      <th>State</th>\n",
       "      <th>Death Penalty</th>\n",
       "      <th>Year</th>\n",
       "      <th>Population</th>\n",
       "      <th>Murder Rate</th>\n",
       "      <th>73 Murder Rate</th>\n",
       "      <th>Murder Rate Change</th>\n",
       "    </tr>\n",
       "  </thead>\n",
       "  <tbody>\n",
       "    <tr>\n",
       "      <th>0</th>\n",
       "      <td>Alaska</td>\n",
       "      <td>False</td>\n",
       "      <td>1971</td>\n",
       "      <td>313000</td>\n",
       "      <td>13.4</td>\n",
       "      <td>10.0</td>\n",
       "      <td>-3.400000</td>\n",
       "    </tr>\n",
       "    <tr>\n",
       "      <th>1</th>\n",
       "      <td>Alabama</td>\n",
       "      <td>True</td>\n",
       "      <td>1971</td>\n",
       "      <td>3479000</td>\n",
       "      <td>15.1</td>\n",
       "      <td>13.2</td>\n",
       "      <td>-1.900001</td>\n",
       "    </tr>\n",
       "    <tr>\n",
       "      <th>2</th>\n",
       "      <td>Arkansas</td>\n",
       "      <td>True</td>\n",
       "      <td>1971</td>\n",
       "      <td>1944000</td>\n",
       "      <td>10.5</td>\n",
       "      <td>8.8</td>\n",
       "      <td>-1.700000</td>\n",
       "    </tr>\n",
       "    <tr>\n",
       "      <th>3</th>\n",
       "      <td>Arizona</td>\n",
       "      <td>True</td>\n",
       "      <td>1971</td>\n",
       "      <td>1849000</td>\n",
       "      <td>6.7</td>\n",
       "      <td>8.1</td>\n",
       "      <td>1.400001</td>\n",
       "    </tr>\n",
       "    <tr>\n",
       "      <th>4</th>\n",
       "      <td>California</td>\n",
       "      <td>True</td>\n",
       "      <td>1971</td>\n",
       "      <td>20223000</td>\n",
       "      <td>8.1</td>\n",
       "      <td>9.0</td>\n",
       "      <td>0.900000</td>\n",
       "    </tr>\n",
       "    <tr>\n",
       "      <th>...</th>\n",
       "      <td>...</td>\n",
       "      <td>...</td>\n",
       "      <td>...</td>\n",
       "      <td>...</td>\n",
       "      <td>...</td>\n",
       "      <td>...</td>\n",
       "      <td>...</td>\n",
       "    </tr>\n",
       "    <tr>\n",
       "      <th>44</th>\n",
       "      <td>Virginia</td>\n",
       "      <td>True</td>\n",
       "      <td>1973</td>\n",
       "      <td>4811000</td>\n",
       "      <td>10.5</td>\n",
       "      <td>10.5</td>\n",
       "      <td>0.000000</td>\n",
       "    </tr>\n",
       "    <tr>\n",
       "      <th>46</th>\n",
       "      <td>Washington</td>\n",
       "      <td>True</td>\n",
       "      <td>1973</td>\n",
       "      <td>3429000</td>\n",
       "      <td>4.0</td>\n",
       "      <td>4.0</td>\n",
       "      <td>0.000000</td>\n",
       "    </tr>\n",
       "    <tr>\n",
       "      <th>48</th>\n",
       "      <td>West Virginia</td>\n",
       "      <td>True</td>\n",
       "      <td>1973</td>\n",
       "      <td>1794000</td>\n",
       "      <td>5.7</td>\n",
       "      <td>5.7</td>\n",
       "      <td>0.000000</td>\n",
       "    </tr>\n",
       "    <tr>\n",
       "      <th>47</th>\n",
       "      <td>Wisconsin</td>\n",
       "      <td>False</td>\n",
       "      <td>1973</td>\n",
       "      <td>4569000</td>\n",
       "      <td>2.6</td>\n",
       "      <td>2.6</td>\n",
       "      <td>0.000000</td>\n",
       "    </tr>\n",
       "    <tr>\n",
       "      <th>49</th>\n",
       "      <td>Wyoming</td>\n",
       "      <td>True</td>\n",
       "      <td>1973</td>\n",
       "      <td>353000</td>\n",
       "      <td>6.8</td>\n",
       "      <td>6.8</td>\n",
       "      <td>0.000000</td>\n",
       "    </tr>\n",
       "  </tbody>\n",
       "</table>\n",
       "<p>100 rows × 7 columns</p>\n",
       "</div>"
      ],
      "text/plain": [
       "            State  Death Penalty  Year  Population  Murder Rate  \\\n",
       "0          Alaska          False  1971      313000         13.4   \n",
       "1         Alabama           True  1971     3479000         15.1   \n",
       "2        Arkansas           True  1971     1944000         10.5   \n",
       "3         Arizona           True  1971     1849000          6.7   \n",
       "4      California           True  1971    20223000          8.1   \n",
       "..            ...            ...   ...         ...          ...   \n",
       "44       Virginia           True  1973     4811000         10.5   \n",
       "46     Washington           True  1973     3429000          4.0   \n",
       "48  West Virginia           True  1973     1794000          5.7   \n",
       "47      Wisconsin          False  1973     4569000          2.6   \n",
       "49        Wyoming           True  1973      353000          6.8   \n",
       "\n",
       "    73 Murder Rate  Murder Rate Change  \n",
       "0             10.0           -3.400000  \n",
       "1             13.2           -1.900001  \n",
       "2              8.8           -1.700000  \n",
       "3              8.1            1.400001  \n",
       "4              9.0            0.900000  \n",
       "..             ...                 ...  \n",
       "44            10.5            0.000000  \n",
       "46             4.0            0.000000  \n",
       "48             5.7            0.000000  \n",
       "47             2.6            0.000000  \n",
       "49             6.8            0.000000  \n",
       "\n",
       "[100 rows x 7 columns]"
      ]
     },
     "execution_count": 28,
     "metadata": {},
     "output_type": "execute_result"
    }
   ],
   "source": [
    "#Table with an added column \"Murder rate Change\" showing the change \n",
    "#of the murder rate before and after the death penalty ban\n",
    "\n",
    "change_in_death_rates = preban_rates.copy()\n",
    "\n",
    "change_in_death_rates = change_in_death_rates.append(postban_rates)\n",
    "\n",
    "change_in_death_rates['73 Murder Rate'] = postban_rates['Murder Rate']\n",
    "\n",
    "change = change_in_death_rates['73 Murder Rate'] - change_in_death_rates['Murder Rate']\n",
    "\n",
    "change_in_death_rates['Murder Rate Change'] = change\n",
    "\n",
    "change_in_death_rates\n"
   ]
  },
  {
   "cell_type": "code",
   "execution_count": 29,
   "metadata": {},
   "outputs": [
    {
     "data": {
      "image/png": "[encoded data removed]",
      "text/plain": [
       "<Figure size 432x288 with 1 Axes>"
      ]
     },
     "metadata": {},
     "output_type": "display_data"
    }
   ],
   "source": [
    "# Plot the distribution of the change in murder rates during the pre-ban and post-ban time periods.\n",
    "pre_1972 = change_in_death_rates[change_in_death_rates['Death Penalty'] == True]\n",
    "post_1972 = change_in_death_rates[change_in_death_rates['Death Penalty'] == False]\n",
    "\n",
    "dp_pre = pre_1972['Murder Rate']\n",
    "dp_post = post_1972['Murder Rate']\n",
    "\n",
    "plt.hist(dp_pre, label='Death Penalty = True', alpha=0.5, color='darkblue', zorder=5)\n",
    "plt.hist(dp_post, label='Death Penalty = False', alpha = 0.5, color='gold', zorder=10)\n",
    "plt.xlabel('Murder Rate')\n",
    "plt.ylabel('Percent per unit')\n",
    "plt.legend(bbox_to_anchor=(1.55, 1))\n",
    "plt.show();"
   ]
  },
  {
   "cell_type": "markdown",
   "metadata": {},
   "source": [
    "This is a table `rate_means` containing the average murder rates for the states that had the death penalty and the states that didn't have the death penalty. It has two columns: one indicating if the penalty was in place, and one that contains the average murder rate for each group."
   ]
  },
  {
   "cell_type": "code",
   "execution_count": 31,
   "metadata": {},
   "outputs": [
    {
     "data": {
      "text/html": [
       "<div>\n",
       "<style scoped>\n",
       "    .dataframe tbody tr th:only-of-type {\n",
       "        vertical-align: middle;\n",
       "    }\n",
       "\n",
       "    .dataframe tbody tr th {\n",
       "        vertical-align: top;\n",
       "    }\n",
       "\n",
       "    .dataframe thead th {\n",
       "        text-align: right;\n",
       "    }\n",
       "</style>\n",
       "<table border=\"1\" class=\"dataframe\">\n",
       "  <thead>\n",
       "    <tr style=\"text-align: right;\">\n",
       "      <th></th>\n",
       "      <th>Murder Rate</th>\n",
       "    </tr>\n",
       "    <tr>\n",
       "      <th>Death Penalty</th>\n",
       "      <th></th>\n",
       "    </tr>\n",
       "  </thead>\n",
       "  <tbody>\n",
       "    <tr>\n",
       "      <th>False</th>\n",
       "      <td>5.933333</td>\n",
       "    </tr>\n",
       "    <tr>\n",
       "      <th>True</th>\n",
       "      <td>7.817045</td>\n",
       "    </tr>\n",
       "  </tbody>\n",
       "</table>\n",
       "</div>"
      ],
      "text/plain": [
       "               Murder Rate\n",
       "Death Penalty             \n",
       "False             5.933333\n",
       "True              7.817045"
      ]
     },
     "execution_count": 31,
     "metadata": {},
     "output_type": "execute_result"
    }
   ],
   "source": [
    "change_in_death_rates_copy = change_in_death_rates.copy()\n",
    "\n",
    "#drop the unecaisery columns \n",
    "change_in_death_rates_copy = change_in_death_rates_copy.drop(columns=[ \"Population\", \"73 Murder Rate\", \"Murder Rate Change\"])\n",
    "\n",
    "rate_means = change_in_death_rates_copy.groupby(by=([\"Death Penalty\"]))[[\"Murder Rate\"]].mean()\n",
    "rate_means\n"
   ]
  },
  {
   "cell_type": "markdown",
   "metadata": {},
   "source": [
    "As I'm testing if murder rates were higher in 1973 than they were in 1971, my **test statistic** would be the difference between the avarege murder rates in 1973 to the average murder rates in 1971."
   ]
  },
  {
   "cell_type": "code",
   "execution_count": 32,
   "metadata": {},
   "outputs": [
    {
     "data": {
      "text/plain": [
       "Murder Rate    1.883712\n",
       "dtype: float64"
      ]
     },
     "execution_count": 32,
     "metadata": {},
     "output_type": "execute_result"
    }
   ],
   "source": [
    "#observed_difference is the observed test statistic using the rate_means table\n",
    "observed_difference = rate_means.iloc[1] - rate_means.iloc[0]\n",
    "observed_difference"
   ]
  },
  {
   "cell_type": "code",
   "execution_count": 35,
   "metadata": {},
   "outputs": [],
   "source": [
    "def find_test_stat(table, labels_col, values_col):\n",
    "    \"\"\"Returns the observed test statistic of a pandas Dataframe given the mean of columns\n",
    "    Input: dataframe, labels_col, values_col\n",
    "    Output: test statistic -> float64\"\"\"\n",
    "    table = table.copy()\n",
    "    table = table.groupby(by=([labels_col]))[[values_col]].mean()\n",
    "    observed_difference = table.iloc[1] - table.iloc[0]\n",
    "    return observed_difference"
   ]
  },
  {
   "cell_type": "code",
   "execution_count": 36,
   "metadata": {},
   "outputs": [
    {
     "data": {
      "text/plain": [
       "Murder Rate    1.883712\n",
       "dtype: float64"
      ]
     },
     "execution_count": 36,
     "metadata": {},
     "output_type": "execute_result"
    }
   ],
   "source": [
    "find_test_stat(change_in_death_rates, \"Death Penalty\", \"Murder Rate\")"
   ]
  },
  {
   "cell_type": "markdown",
   "metadata": {},
   "source": [
    "When I run a simulation for A/B testing, I resample by shuffling the labels of the original sample. If the null hypothesis is true and the murder rate distributions are the same, I expect that the difference in mean death rates will not be changed when \"Death Penalty\" labels are changed."
   ]
  },
  {
   "cell_type": "code",
   "execution_count": 38,
   "metadata": {},
   "outputs": [],
   "source": [
    "def simulate_and_test_statistic(table, labels_col, values_col):\n",
    "    \"\"\"Computes one trial of our A/B test and returns a test statistic.\n",
    "    Input: table, labels_col, values_col\n",
    "    Output: test statistic -> float64\"\"\"\n",
    "    \n",
    "    random_labels = table[labels_col].sample(len(table), replace=False)\n",
    "    random_labels = np.array(list(random_labels))\n",
    "    table.loc[: , labels_col] = random_labels\n",
    "    relabeled_tbl = table\n",
    "    \n",
    "    return find_test_stat(relabeled_tbl, labels_col, values_col)"
   ]
  },
  {
   "cell_type": "code",
   "execution_count": 39,
   "metadata": {},
   "outputs": [
    {
     "data": {
      "text/plain": [
       "Murder Rate    0.075\n",
       "dtype: float64"
      ]
     },
     "execution_count": 39,
     "metadata": {},
     "output_type": "execute_result"
    }
   ],
   "source": [
    "simulate_and_test_statistic(change_in_death_rates, \"Death Penalty\", \"Murder Rate\")"
   ]
  },
  {
   "cell_type": "markdown",
   "metadata": {},
   "source": [
    "I then run 5000 trials of my A/B test and stored the found test statistics in a numpy array called `differences`."
   ]
  },
  {
   "cell_type": "code",
   "execution_count": 40,
   "metadata": {},
   "outputs": [
    {
     "data": {
      "text/plain": [
       "array([ 0.18863629,  0.73787866,  0.29280304, ..., -0.50265149,\n",
       "        1.30606061,  1.2965909 ])"
      ]
     },
     "execution_count": 40,
     "metadata": {},
     "output_type": "execute_result"
    }
   ],
   "source": [
    "import datetime\n",
    "\n",
    "differences = np.array([])\n",
    "\n",
    "for i in np.arange(5000):\n",
    "    simulate_AB_test = simulate_and_test_statistic(change_in_death_rates, \"Death Penalty\", \"Murder Rate\")\n",
    "    differences = np.append(differences, simulate_AB_test)\n",
    "                                                 \n",
    "differences"
   ]
  },
  {
   "cell_type": "code",
   "execution_count": 43,
   "metadata": {},
   "outputs": [
    {
     "data": {
      "image/png": "[encoded data removed]",
      "text/plain": [
       "<Figure size 432x288 with 1 Axes>"
      ]
     },
     "metadata": {},
     "output_type": "display_data"
    }
   ],
   "source": [
    "#Plot a histogram showing the distribution of my simulated test statistics with my observed statistic (red dot)\n",
    "pd.DataFrame({'Difference Between Group Means':differences}).hist(ec='white', zorder=5)\n",
    "plt.scatter(observed_difference, 0, color='red', s=30, zorder=10).set_clip_on(False);"
   ]
  },
  {
   "cell_type": "code",
   "execution_count": 44,
   "metadata": {},
   "outputs": [
    {
     "data": {
      "text/plain": [
       "0.0"
      ]
     },
     "execution_count": 44,
     "metadata": {},
     "output_type": "execute_result"
    }
   ],
   "source": [
    "differences = np.average(differences) \n",
    "\n",
    "#p-value\n",
    "empirical_P = np.count_nonzero(differences >= observed_difference) / 10000   \n",
    "empirical_P"
   ]
  },
  {
   "cell_type": "markdown",
   "metadata": {},
   "source": [
    "As our p value is 0 then based on the 5% p-value cut-off we are likely to reject the null hypothesis, and accept the alternative one as the murder rates were higher after the abolishion of the death penalty."
   ]
  }
 ],
 "metadata": {
  "kernelspec": {
   "display_name": "Python 3",
   "language": "python",
   "name": "python3"
  },
  "language_info": {
   "codemirror_mode": {
    "name": "ipython",
    "version": 3
   },
   "file_extension": ".py",
   "mimetype": "text/x-python",
   "name": "python",
   "nbconvert_exporter": "python",
   "pygments_lexer": "ipython3",
   "version": "3.8.5"
  }
 },
 "nbformat": 4,
 "nbformat_minor": 4
}
